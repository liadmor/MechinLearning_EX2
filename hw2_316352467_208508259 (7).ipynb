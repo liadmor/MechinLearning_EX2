{
 "cells": [
  {
   "cell_type": "markdown",
   "metadata": {
    "nbgrader": {
     "grade": false,
     "grade_id": "cell-6bd0516e7cb654f5",
     "locked": true,
     "schema_version": 1,
     "solution": false
    }
   },
   "source": [
    "# Exercise 2: Decision Trees\n",
    "\n",
    "In this assignment you will implement a Decision Tree algorithm as learned in class.\n",
    "\n",
    "## Read the following instructions carefully:\n",
    "\n",
    "1. This jupyter notebook contains all the step by step instructions needed for this exercise.\n",
    "1. Submission includes this notebook only with the exercise number and your ID as the filename. For example: `hw2_123456789_987654321.ipynb` if you submitted in pairs and `hw2_123456789.ipynb` if you submitted the exercise alone.\n",
    "1. Write **efficient vectorized** code whenever possible. Some calculations in this exercise take several minutes when implemented efficiently, and might take much longer otherwise. Unnecessary loops will result in point deduction.\n",
    "1. You are responsible for the correctness of your code and should add as many tests as you see fit. Tests will not be graded nor checked.\n",
    "1. Write your functions in this notebook only. **Do not create Python modules and import them**.\n",
    "1. You are allowed to use functions and methods from the [Python Standard Library](https://docs.python.org/3/library/) and [numpy](https://www.numpy.org/devdocs/reference/) only. **Do not import anything else.**\n",
    "1. Your code must run without errors. Make sure your `numpy` version is at least 1.15.4 and that you are using at least python 3.6. Changes of the configuration we provided are at your own risk. Any code that cannot run will not be graded.\n",
    "1. Write your own code. Cheating will not be tolerated.\n",
    "1. Answers to qualitative questions should be written in **markdown** cells (with $\\LaTeX$ support). Answers that will be written in commented code blocks will not be checked.\n",
    "\n",
    "## In this exercise you will perform the following:\n",
    "1. Practice OOP in python.\n",
    "2. Implement two impurity measures: Gini and Entropy.\n",
    "3. Construct a decision tree algorithm.\n",
    "4. Prune the tree to achieve better results.\n",
    "5. Visualize your results."
   ]
  },
  {
   "cell_type": "markdown",
   "metadata": {},
   "source": [
    "###### I have read and understood the instructions: 316352467 , 208508259"
   ]
  },
  {
   "cell_type": "code",
   "execution_count": 1,
   "metadata": {
    "nbgrader": {
     "grade": false,
     "grade_id": "cell-ed9fe7b1026e33cb",
     "locked": true,
     "schema_version": 1,
     "solution": false
    }
   },
   "outputs": [],
   "source": [
    "import numpy as np\n",
    "import pandas as pd\n",
    "import matplotlib.pyplot as plt\n",
    "\n",
    "# make matplotlib figures appear inline in the notebook\n",
    "%matplotlib inline\n",
    "plt.rcParams['figure.figsize'] = (10.0, 8.0) # set default size of plots\n",
    "plt.rcParams['image.interpolation'] = 'nearest'\n",
    "plt.rcParams['image.cmap'] = 'gray'\n",
    "\n",
    "# Ignore warnings\n",
    "import warnings\n",
    "warnings.filterwarnings('ignore')"
   ]
  },
  {
   "cell_type": "markdown",
   "metadata": {
    "nbgrader": {
     "grade": false,
     "grade_id": "cell-c6ac605270c2b091",
     "locked": true,
     "schema_version": 1,
     "solution": false
    }
   },
   "source": [
    "## Warmup - OOP in python\n",
    "\n",
    "Our desicion tree will be implemented using a dedicated python class. Python classes are very similar to classes in Java.\n",
    "\n",
    "\n",
    "You can use the following [site](https://jeffknupp.com/blog/2014/06/18/improve-your-python-python-classes-and-object-oriented-programming/) to learn about classes in python."
   ]
  },
  {
   "cell_type": "code",
   "execution_count": 2,
   "metadata": {},
   "outputs": [],
   "source": [
    "class Node(object):\n",
    "    def __init__(self, data):\n",
    "        self.data = data\n",
    "        self.children = []\n",
    "\n",
    "    def add_child(self, node):\n",
    "        self.children.append(node)"
   ]
  },
  {
   "cell_type": "code",
   "execution_count": 3,
   "metadata": {},
   "outputs": [
    {
     "data": {
      "text/plain": [
       "[<__main__.Node at 0x205a34feca0>, <__main__.Node at 0x205a34fedc0>]"
      ]
     },
     "execution_count": 3,
     "metadata": {},
     "output_type": "execute_result"
    }
   ],
   "source": [
    "n = Node(5)\n",
    "p = Node(6)\n",
    "q = Node(7)\n",
    "n.add_child(p)\n",
    "n.add_child(q)\n",
    "n.children"
   ]
  },
  {
   "cell_type": "markdown",
   "metadata": {
    "nbgrader": {
     "grade": false,
     "grade_id": "cell-2f1ceb251c649b62",
     "locked": true,
     "schema_version": 1,
     "solution": false
    }
   },
   "source": [
    "## Data preprocessing\n",
    "\n",
    "For the following exercise, we will use a dataset containing mushroom data `agaricus-lepiota.csv`. \n",
    "\n",
    "This data set includes descriptions of hypothetical samples corresponding to 23 species of gilled mushrooms in the Agaricus and Lepiota Family. Each species is identified as definitely edible, definitely poisonous, or of unknown edibility and not recommended. This latter class was combined with the poisonous\n",
    "one (=there are only two classes **edible** and **poisonous**). \n",
    "    \n",
    "The dataset contains 8124 observations with 22 features:\n",
    "1. cap-shape: bell=b,conical=c,convex=x,flat=f,knobbed=k,sunken=s\n",
    "2. cap-surface: fibrous=f,grooves=g,scaly=y,smooth=s\n",
    "3. cap-color: brown=n,buff=b,cinnamon=c,gray=g,green=r,pink=p,purple=u,red=e,white=w,yellow=y\n",
    "4. bruises: bruises=t,no=f\n",
    "5. odor: almond=a,anise=l,creosote=c,fishy=y,foul=f, musty=m,none=n,pungent=p,spicy=s\n",
    "6. gill-attachment: attached=a,descending=d,free=f,notched=n\n",
    "7. gill-spacing: close=c,crowded=w,distant=d\n",
    "8. gill-size: broad=b,narrow=n\n",
    "9. gill-color: black=k,brown=n,buff=b,chocolate=h,gray=g,green=r,orange=o,pink=p,purple=u,red=e,white=w,yellow=y\n",
    "10. stalk-shape: enlarging=e,tapering=t\n",
    "11. stalk-root: bulbous=b,club=c,cup=u,equal=e,rhizomorphs=z,rooted=r\n",
    "12. stalk-surface-above-ring: fibrous=f,scaly=y,silky=k,smooth=s\n",
    "13. stalk-surface-below-ring: fibrous=f,scaly=y,silky=k,smooth=s\n",
    "14. stalk-color-above-ring: brown=n,buff=b,cinnamon=c,gray=g,orange=o,pink=p,red=e,white=w,yellow=y\n",
    "15. stalk-color-below-ring: brown=n,buff=b,cinnamon=c,gray=g,orange=o,pink=p,red=e,white=w,yellow=y\n",
    "16. veil-type: partial=p,universal=u\n",
    "17. veil-color: brown=n,orange=o,white=w,yellow=y\n",
    "18. ring-number: none=n,one=o,two=t\n",
    "19. ring-type: cobwebby=c,evanescent=e,flaring=f,large=l,none=n,pendant=p,sheathing=s,zone=z\n",
    "20. spore-print-color: black=k,brown=n,buff=b,chocolate=h,green=r,orange=o,purple=u,white=w,yellow=y\n",
    "21. population: abundant=a,clustered=c,numerous=n,scattered=s,several=v,solitary=y\n",
    "22. habitat: grasses=g,leaves=l,meadows=m,paths=p,urban=u,waste=w,woods=d\n",
    "\n",
    "First, we will read and explore the data using pandas and the `.read_csv` method. Pandas is an open source library providing high-performance, easy-to-use data structures and data analysis tools for the Python programming language."
   ]
  },
  {
   "cell_type": "code",
   "execution_count": 4,
   "metadata": {
    "nbgrader": {
     "grade": false,
     "grade_id": "cell-d79cb4542926ad3f",
     "locked": true,
     "schema_version": 1,
     "solution": false
    }
   },
   "outputs": [],
   "source": [
    "# load dataset\n",
    "data = pd.read_csv('agaricus-lepiota.csv')"
   ]
  },
  {
   "cell_type": "markdown",
   "metadata": {},
   "source": [
    "One of the advantages of the Decision Tree algorithm is that almost no preprocessing is required. However, finding missing values is always required."
   ]
  },
  {
   "cell_type": "code",
   "execution_count": 5,
   "metadata": {},
   "outputs": [],
   "source": [
    "#############################################################################\n",
    "# TODO: Find the columns with missing values and remove them from the data.#\n",
    "#############################################################################\n",
    "data.dropna(axis='columns')\n",
    "pass\n",
    "#############################################################################\n",
    "#                             END OF YOUR CODE                              #\n",
    "#############################################################################"
   ]
  },
  {
   "cell_type": "markdown",
   "metadata": {},
   "source": [
    "We will split the dataset to `Training` and `Testing` datasets."
   ]
  },
  {
   "cell_type": "code",
   "execution_count": 6,
   "metadata": {},
   "outputs": [
    {
     "name": "stdout",
     "output_type": "stream",
     "text": [
      "Training dataset shape:  (6093, 22)\n",
      "Testing dataset shape:  (2031, 22)\n"
     ]
    }
   ],
   "source": [
    "from sklearn.model_selection import train_test_split\n",
    "# Making sure the last column will hold the labels\n",
    "X, y = data.drop('class', axis=1), data['class']\n",
    "X = np.column_stack([X,y])\n",
    "# split dataset using random_state to get the same split each time\n",
    "X_train, X_test = train_test_split(X, random_state=99)\n",
    "\n",
    "print(\"Training dataset shape: \", X_train.shape)\n",
    "print(\"Testing dataset shape: \", X_test.shape)"
   ]
  },
  {
   "cell_type": "code",
   "execution_count": 7,
   "metadata": {},
   "outputs": [
    {
     "data": {
      "text/plain": [
       "(8124,)"
      ]
     },
     "execution_count": 7,
     "metadata": {},
     "output_type": "execute_result"
    }
   ],
   "source": [
    "y.shape"
   ]
  },
  {
   "cell_type": "markdown",
   "metadata": {
    "nbgrader": {
     "grade": false,
     "grade_id": "cell-fd7b0191f3f1e897",
     "locked": true,
     "schema_version": 1,
     "solution": false
    }
   },
   "source": [
    "## Impurity Measures\n",
    "\n",
    "Impurity is a measure of how often a randomly chosen element from the set would be incorrectly labeled if it was randomly labeled according to the distribution of labels in the subset. Implement the functions `calc_gini` and `calc_entropy`. You are encouraged to test your implementation (10 points)."
   ]
  },
  {
   "cell_type": "code",
   "execution_count": 8,
   "metadata": {},
   "outputs": [],
   "source": [
    "def calc_gini(data):\n",
    "    \"\"\"\n",
    "    Calculate gini impurity measure of a dataset.\n",
    " \n",
    "    Input:\n",
    "    - data: any dataset where the last column holds the labels.\n",
    " \n",
    "    Returns the gini impurity.    \n",
    "    \"\"\"\n",
    "    gini = 0.0\n",
    "    ###########################################################################\n",
    "    # TODO: Implement the function.                                           #\n",
    "    ###########################################################################\n",
    "    #get all classes (from last row) and the amount of time they appear\n",
    "    allClasses = np.array(np.unique(data[:,-1], return_counts=True)).T\n",
    "    #number of classes in this dataset (number of uniqe values in last column)\n",
    "    numberOfClasses = allClasses[:,0].size\n",
    "    #size of the dataSet\n",
    "    S = data[:,-1].size\n",
    "    for c in range(numberOfClasses):\n",
    "        gini += np.power(allClasses[c][1]/S,2)\n",
    "    gini = 1-gini\n",
    "    pass\n",
    "    ###########################################################################\n",
    "    #                             END OF YOUR CODE                            #\n",
    "    ###########################################################################\n",
    "    return gini"
   ]
  },
  {
   "cell_type": "code",
   "execution_count": 9,
   "metadata": {},
   "outputs": [],
   "source": [
    "def calc_entropy(data):\n",
    "    \"\"\"\n",
    "    Calculate the entropy of a dataset.\n",
    "\n",
    "    Input:\n",
    "    - data: any dataset where the last column holds the labels.\n",
    "\n",
    "    Returns the entropy of the dataset.    \n",
    "    \"\"\"\n",
    "    entropy = 0.0\n",
    "    ###########################################################################\n",
    "    # TODO: Implement the function.                                           #\n",
    "    ###########################################################################\n",
    "    #get all classes (from last row) and the amount of time they appear\n",
    "    allClasses = np.array(np.unique(data[:,-1], return_counts=True)).T\n",
    "    #number of classes in this dataset (number of uniqe values in last column)\n",
    "    numberOfClasses = allClasses[:,0].size\n",
    "    #size of the dataSet\n",
    "    S = data[:,-1].size\n",
    "    for c in range(numberOfClasses):\n",
    "        entropy += (-1)*(allClasses[c][1]/S) * np.log2(allClasses[c][1]/S)\n",
    "    pass\n",
    "    ###########################################################################\n",
    "    #                             END OF YOUR CODE                            #\n",
    "    ###########################################################################\n",
    "    return entropy"
   ]
  },
  {
   "cell_type": "code",
   "execution_count": 10,
   "metadata": {
    "scrolled": true
   },
   "outputs": [
    {
     "data": {
      "text/plain": [
       "(0.4995636322379775, 0.9993703627906085)"
      ]
     },
     "execution_count": 10,
     "metadata": {},
     "output_type": "execute_result"
    }
   ],
   "source": [
    "##### Your Tests Here #####\n",
    "calc_gini(X), calc_entropy(X)"
   ]
  },
  {
   "cell_type": "markdown",
   "metadata": {},
   "source": [
    "## Goodness of Split\n",
    "\n",
    "Given a feature the Goodnees of Split measures the reduction in the impurity if we split the data according to the feature.\n",
    "$$\n",
    "\\Delta\\varphi(S, A) = \\varphi(S) - \\sum_{v\\in Values(A)} \\frac{|S_v|}{|S|}\\varphi(S_v)\n",
    "$$\n",
    "\n",
    "In our implementation the goodness_of_split function will return either the Goodness of Split or the Gain Ratio as learned in class. You'll control the return value with the `gain_ratio` parameter. If this parameter will set to False (the default value) it will return the regular Goodness of Split. If it will set to True it will return the Gain Ratio.\n",
    "$$\n",
    "GainRatio(S,A)=\\frac{InformationGain(S,A)}{SplitInformation(S,A)}\n",
    "$$\n",
    "Where:\n",
    "$$\n",
    "InformationGain(S,A)=Goodness\\ of\\ Split\\ calculated\\ with\\ Entropy\\ as\\ the\\ Impurity\\ function \\\\\n",
    "SplitInformation(S,A)=- \\sum_{a\\in A} \\frac{|S_a|}{|S|}\\log\\frac{|S_a|}{|S|}\n",
    "$$\n",
    "NOTE: you can add more parameters to the function and you can also add more returning variables (The given parameters and the given returning variable should not be touch). (10 Points)"
   ]
  },
  {
   "cell_type": "code",
   "execution_count": 11,
   "metadata": {},
   "outputs": [],
   "source": [
    "def goodness_of_split(data, feature, impurity_func, gain_ratio=False):\n",
    "    \"\"\"\n",
    "    Calculate the goodness of split of a dataset given a feature and impurity function.\n",
    "\n",
    "    Input:\n",
    "    - data: any dataset where the last column holds the labels.\n",
    "    - feature: the feature index.\n",
    "    - impurity func: a function that calculates the impurity.\n",
    "    - gain_ratio: goodness of split or gain ratio flag.\n",
    "\n",
    "    Returns the goodness of split (or the Gain Ration).  \n",
    "    \"\"\"\n",
    "    ###########################################################################\n",
    "    # TODO: Implement the function.                                           #\n",
    "    ###########################################################################\n",
    "    #if gain_ratio = true we need to calculate goodness_of_split with entropy\n",
    "    if(gain_ratio):\n",
    "        impurity_func = calc_entropy \n",
    "    \n",
    "    #impurity of data\n",
    "    dataImpurity = impurity_func(data)\n",
    "    #size of data (|S|)\n",
    "    S = data[:,-1].size\n",
    "    #finding values of the feature and the amount of time each one appears\n",
    "    allValues = np.array(np.unique(data[:,feature], return_counts=True)).T\n",
    "    #number of values in this dataset (number of uniqe values in last column)\n",
    "    numberOfValues = allValues[:,0].size\n",
    "    tempSum = 0.0\n",
    "    for v in range(numberOfValues):\n",
    "        #creating dataSet with the current featur where the last column holds the labels\n",
    "        featureAndClasses = data[:,[feature,-1]]\n",
    "        #creating dataSet with the current value (value of featur : allValues[v][0])\n",
    "        currentData = featureAndClasses[np.where(featureAndClasses[:,0] == allValues[v][0])]\n",
    "        #calculation (|Sv|= allValues[v][1] this is the size of the current value)\n",
    "        tempSum += (allValues[v][1]/S) * impurity_func(currentData)\n",
    "    goodness = dataImpurity - tempSum\n",
    "    \n",
    "    #Gain Ratio calculation\n",
    "    if(gain_ratio):\n",
    "        informationGain = goodness  \n",
    "        #calculate split information\n",
    "        splitInformation = 0.0\n",
    "        for a in range(numberOfValues):\n",
    "            splitInformation += (-1) * (allValues[a][1]/S) * np.log2(allValues[a][1]/S)\n",
    "        goodness = informationGain/splitInformation\n",
    "    pass\n",
    "    ###########################################################################\n",
    "    #                             END OF YOUR CODE                            #\n",
    "    ###########################################################################\n",
    "    return goodness    "
   ]
  },
  {
   "cell_type": "markdown",
   "metadata": {},
   "source": [
    "## Building a Decision Tree\n",
    "\n",
    "Use a Python class to construct the decision tree. Your class should support the following functionality:\n",
    "\n",
    "1. Initiating a node for a decision tree. You will need to use several class methods and class attributes and you are free to use them as you see fit. We recommend that every node will hold the feature and value used for the split and its children.\n",
    "2. Your code should support both Gini and Entropy as impurity measures. \n",
    "3. The provided data includes categorical data. In this exercise, when splitting a node create the number of children needed according to the attribute unique values.\n",
    "\n",
    "Complete the class `DecisionNode`. The structure of this class is entirely up to you. \n",
    "\n",
    "Complete the function `build_tree`. This function should get the training dataset and the impurity as inputs, initiate a root for the decision tree and construct the tree according to the procedure you learned in class. (30 points)"
   ]
  },
  {
   "cell_type": "code",
   "execution_count": 12,
   "metadata": {},
   "outputs": [],
   "source": [
    "class DecisionNode:\n",
    "    \"\"\"\n",
    "    This class will hold everything you require to construct a decision tree.\n",
    "    The structure of this class is up to you. However, you need to support basic \n",
    "    functionality as described above. It is highly recommended that you \n",
    "    first read and understand the entire exercise before diving into this class.\n",
    "    \"\"\"\n",
    "    def __init__(self, feature):\n",
    "        self.feature = feature # column index of criteria being tested\n",
    "        self.children = []\n",
    "        self.pred = {}\n",
    "        self.parent = None\n",
    "        self.currentValueOfFeature = \"\"\n",
    "        \n",
    "    def add_child(self, node):\n",
    "        self.children.append(node)"
   ]
  },
  {
   "cell_type": "code",
   "execution_count": 13,
   "metadata": {},
   "outputs": [],
   "source": [
    "def build_tree(data, impurity, gain_ratio=False, chi=1, max_depth=1000):\n",
    "    \"\"\"\n",
    "    Build a tree using the given impurity measure and training dataset. \n",
    "    You are required to fully grow the tree until all leaves are pure. \n",
    "\n",
    "    Input:\n",
    "    - data: the training dataset.\n",
    "    - impurity: the chosen impurity measure. Notice that you can send a function\n",
    "                as an argument in python.\n",
    "    - gain_ratio: goodness of split or gain ratio flag\n",
    "    - chi: chi square p-value cut off (1 means no pruning)\n",
    "    - max_depth: the allowable depth of the tree\n",
    "\n",
    "    Output: the root node of the tree.\n",
    "    \"\"\"\n",
    "    root = None\n",
    "    ###########################################################################\n",
    "    # TODO: Implement the function.                                           #\n",
    "    ###########################################################################\n",
    "    maxGoodness = -1\n",
    "    bestFeature = 0\n",
    "    #check if data is perfectly classified or we reached max depth\n",
    "    if (impurity(data) == 0 or max_depth == 0):\n",
    "        leafNode = DecisionNode(-1)\n",
    "        leafNode.pred = calculate_labels(data)\n",
    "        return leafNode\n",
    "    #find the best feature\n",
    "    for featureIndex in range(data.shape[1] - 1):\n",
    "        currentGoodness = goodness_of_split(data, featureIndex, impurity, gain_ratio)\n",
    "        if (maxGoodness < currentGoodness):\n",
    "            maxGoodness = currentGoodness\n",
    "            bestFeature = featureIndex     \n",
    "    #check if max_goodness which is the best_feature max_goodness is bigger then 0 (we can still split)\n",
    "    if (maxGoodness > 0):\n",
    "        #get all the unique values of this feature in an array\n",
    "        rootValues = np.unique(data[:,bestFeature])\n",
    "        #chi\n",
    "        if chi < 1:\n",
    "            chiVal = calcChiValue(data, bestFeature)\n",
    "            if chiVal < chi_table[len(rootValues) - 1][chi]:\n",
    "                leafNode = DecisionNode(-1,)\n",
    "                leafNode.pred = calculate_labels(data) \n",
    "                return leafNode\n",
    "        #creating node      \n",
    "        root = DecisionNode(bestFeature)\n",
    "        root.pred = calculate_labels(data)\n",
    "        for currentVal in rootValues:\n",
    "            #creating new data (that match to the current value of the feature - will be the data of the child)\n",
    "            nextData = data[data[:, bestFeature] == currentVal]   \n",
    "            #recurtion call\n",
    "            childNode = build_tree(nextData, impurity, gain_ratio, chi, max_depth - 1)\n",
    "            if (childNode != None):\n",
    "                root.add_child(childNode)\n",
    "                childNode.parent = root\n",
    "                childNode.currentValueOfFeature = currentVal\n",
    "    else:\n",
    "        leafNode = DecisionNode(-1)\n",
    "        leafNode.pred = calculate_labels(data) \n",
    "        return leafNode\n",
    "    pass\n",
    "    ###########################################################################\n",
    "    #                             END OF YOUR CODE                            #\n",
    "    ###########################################################################\n",
    "    return root\n",
    "\n",
    "\n",
    "#help function that return a dictionary of unique values of labels and the amount they appear (example: {'e': 3154, 'p': 2939})\n",
    "def calculate_labels(data):\n",
    "    \"\"\"\n",
    "    return a dictionary of unique values of labels and the amount they appear\n",
    " \n",
    "    Input:\n",
    "    - datas: the dataset on which the calculation is preformed\n",
    " \n",
    "    Output: the pred\n",
    "    \"\"\"\n",
    "    labelsColumn = data[:, [data.shape[1] - 1]]\n",
    "    labelsValues = np.unique(labelsColumn)\n",
    "    labels = {}\n",
    "    for currentLabel in labelsValues:\n",
    "        labels[currentLabel] = np.count_nonzero(labelsColumn == currentLabel)\n",
    "    return labels"
   ]
  },
  {
   "cell_type": "code",
   "execution_count": 14,
   "metadata": {},
   "outputs": [],
   "source": [
    "# python supports passing a function as an argument to another function.\n",
    "tree_gini = build_tree(data=X_train, impurity=calc_gini) # gini and goodness of split\n",
    "tree_entropy = build_tree(data=X_train, impurity=calc_entropy) # entropy and goodness of split\n",
    "tree_entropy_gain_ratio = build_tree(data=X_train, impurity=calc_entropy, gain_ratio=True) # entropy and gain ratio"
   ]
  },
  {
   "cell_type": "markdown",
   "metadata": {},
   "source": [
    "## Tree evaluation\n",
    "\n",
    "Complete the functions `predict` and `calc_accuracy`. (10 points)"
   ]
  },
  {
   "cell_type": "code",
   "execution_count": 15,
   "metadata": {},
   "outputs": [],
   "source": [
    "def predict(node, instance):\n",
    "    \"\"\"\n",
    "    Predict a given instance using the decision tree\n",
    " \n",
    "    Input:\n",
    "    - root: the root of the decision tree.\n",
    "    - instance: an row vector from the dataset. Note that the last element \n",
    "                of this vector is the label of the instance.\n",
    " \n",
    "    Output: the prediction of the instance.\n",
    "    \"\"\"\n",
    "    pred = None\n",
    "    ###########################################################################\n",
    "    # TODO: Implement the function.                                           #\n",
    "    ###########################################################################\n",
    "    while node.feature != -1:\n",
    "        tempNode = None\n",
    "        currentFeatureValue = instance[node.feature]\n",
    "        for childNode in node.children:\n",
    "            if childNode.currentValueOfFeature == currentFeatureValue:\n",
    "                tempNode = childNode\n",
    "                break\n",
    "                \n",
    "        if tempNode is None:\n",
    "            break\n",
    "        else:\n",
    "            node = tempNode\n",
    "    pass\n",
    "    ###########################################################################\n",
    "    #                             END OF YOUR CODE                            #\n",
    "    ###########################################################################\n",
    "    return node.pred"
   ]
  },
  {
   "cell_type": "code",
   "execution_count": 16,
   "metadata": {},
   "outputs": [],
   "source": [
    "def calc_accuracy(node, dataset):\n",
    "    \"\"\"\n",
    "    Predict a given dataset using the decision tree\n",
    " \n",
    "    Input:\n",
    "    - node: a node in the decision tree.\n",
    "    - dataset: the dataset on which the accuracy is evaluated\n",
    " \n",
    "    Output: the accuracy of the decision tree on the given dataset (%).\n",
    "    \"\"\"\n",
    "    accuracy = 0\n",
    "    ###########################################################################\n",
    "    # TODO: Implement the function.                                           #\n",
    "    ###########################################################################\n",
    "    for currInstance in dataset: \n",
    "        currentPredDictionary = predict(node, currInstance)\n",
    "        if len(currentPredDictionary) == 0:\n",
    "            continue\n",
    "        if max(currentPredDictionary, key=currentPredDictionary.get) == currInstance[-1]:\n",
    "            accuracy += 1\n",
    "            \n",
    "    accuracy /= dataset.shape[0]\n",
    "    pass\n",
    "    ###########################################################################\n",
    "    #                             END OF YOUR CODE                            #\n",
    "    ###########################################################################\n",
    "    return accuracy "
   ]
  },
  {
   "cell_type": "markdown",
   "metadata": {},
   "source": [
    "After building the three trees using the training set, you should calculate the accuracy on the test set. For each tree print the training and test accuracy. Select the tree that gave you the best test accuracy. For the rest of the exercise, use that tree (when you asked to build another tree use the same impurity function and same gain_ratio flag). "
   ]
  },
  {
   "cell_type": "code",
   "execution_count": 17,
   "metadata": {},
   "outputs": [
    {
     "name": "stdout",
     "output_type": "stream",
     "text": [
      "tree gini accuracy: for training set = 0.9924503528639422 and for testing set = 0.7749876907927129\n",
      "tree entropy accuracy: for training set = 0.9940915805022157 and for testing set = 0.7725258493353028\n",
      "tree entropy gain ratio: for training set = 0.9963892991957984 and for testing set = 0.7853274249138356\n"
     ]
    }
   ],
   "source": [
    "#### Your code here ####\n",
    "GiniTraining = calc_accuracy(tree_gini, X_train)\n",
    "GiniTest = calc_accuracy(tree_gini, X_test)\n",
    "EntropyTraining = calc_accuracy(tree_entropy, X_train)\n",
    "EntropyTest = calc_accuracy(tree_entropy, X_test)\n",
    "EntropyTrainingGainRatio = calc_accuracy(tree_entropy_gain_ratio, X_train)\n",
    "EntropyTestGainRatio = calc_accuracy(tree_entropy_gain_ratio, X_test)\n",
    "\n",
    "print(\"tree gini accuracy: for training set = {0} and for testing set = {1}\".format(GiniTraining, GiniTest))\n",
    "print(\"tree entropy accuracy: for training set = {0} and for testing set = {1}\".format(EntropyTraining, EntropyTest))\n",
    "print(\"tree entropy gain ratio: for training set = {0} and for testing set = {1}\".format(EntropyTrainingGainRatio, EntropyTestGainRatio))"
   ]
  },
  {
   "cell_type": "markdown",
   "metadata": {},
   "source": [
    "## Post pruning\n",
    "\n",
    "Iterate over all nodes in the tree that have at least a single child which is a leaf. For each such node, replace it with its most popular class. Calculate the accuracy on the testing dataset, pick the node that results in the highest testing accuracy and permanently change it in the tree. Repeat this process until you are left with a single node in the tree (the root). Finally, create a plot of the training and testing accuracies as a function of the number of nodes in the tree. (15 points)"
   ]
  },
  {
   "cell_type": "code",
   "execution_count": 18,
   "metadata": {},
   "outputs": [
    {
     "data": {
      "image/png": "[encoded data removed]",
      "text/plain": [
       "<Figure size 720x576 with 1 Axes>"
      ]
     },
     "metadata": {
      "needs_background": "light"
     },
     "output_type": "display_data"
    }
   ],
   "source": [
    "#### Your code here ####\n",
    "#help function for decide which node to replace \n",
    "def post_pruning(root):\n",
    "    \"\"\"\n",
    "    decide which node to replace\n",
    " \n",
    "    Input:\n",
    "    - root: a node in the decision tree.\n",
    "    - data: the dataset on which the post pruning is evaluated\n",
    " \n",
    "    Output:\n",
    "    - accuracy: current accuracy of the tree after removing the node\n",
    "    \"\"\"  \n",
    "    queue = []\n",
    "    list_of_current_leafs = []\n",
    "    queue.append(root)\n",
    "    while(len(queue)):\n",
    "        currentNode = queue.pop(0)\n",
    "        if(currentNode.feature == -1):\n",
    "            list_of_current_leafs.append(currentNode)\n",
    "        for child in currentNode.children:\n",
    "            queue.append(child)\n",
    "    #iterate over all fathers and find the one that we want to replace with leaf and delete the leaf\n",
    "    currentAccuracy = 0\n",
    "    maxAccuracy = -1\n",
    "    maxFather = None\n",
    "    maxLeaf = None\n",
    "    parents = []\n",
    "    for leaf in list_of_current_leafs:\n",
    "        if leaf.parent not in parents:\n",
    "            parents.append(leaf.parent)\n",
    "    for parent in parents:       \n",
    "        parent_pred_temp = parent.pred\n",
    "        #calculate the most popular class\n",
    "        numberOfe = 0\n",
    "        numberOfp = 0\n",
    "        for child in parent.children:\n",
    "            if 'e' in child.pred.keys():\n",
    "                numberOfe += child.pred['e'] \n",
    "            if 'p' in child.pred.keys():\n",
    "                numberOfp += child.pred['p']\n",
    "        if(numberOfe > numberOfp):\n",
    "            parent.pred = {'e':numberOfe}\n",
    "        else:\n",
    "            parent.pred = {'p': numberOfp}\n",
    "        parent_children_temp = parent.children\n",
    "        parent.children = []\n",
    "        currentAccuracy = calc_accuracy(root,X_test)\n",
    "        if (currentAccuracy > maxAccuracy):\n",
    "            maxFather = parent\n",
    "            maxAccuracy = currentAccuracy\n",
    "        parent.pred = parent_pred_temp\n",
    "        parent.children = parent_children_temp\n",
    "    #replace father with a leaf using the popular class of the training data that reached that node\n",
    "    numberOfe = 0\n",
    "    numberOfp = 0\n",
    "    for child in maxFather.children:\n",
    "        if 'e' in child.pred.keys():\n",
    "            numberOfe += child.pred['e'] \n",
    "        if 'p' in child.pred.keys():\n",
    "            numberOfp += child.pred['p']\n",
    "    if(numberOfe > numberOfp):\n",
    "        maxFather.pred = {'e':numberOfe}\n",
    "    if(numberOfe <= numberOfp):\n",
    "        maxFather.pred = {'p': numberOfp}\n",
    "    maxFather.children = []\n",
    "    maxFather.feature = -1\n",
    "    return calc_accuracy(root,X_train), calc_accuracy(root,X_test)\n",
    "\n",
    "def count_nodes(node):\n",
    "    \"\"\"\n",
    "    Count the number of node in a given tree\n",
    " \n",
    "    Input:\n",
    "    - node: a node in the decision tree.\n",
    " \n",
    "    Output: the number of node in the tree.\n",
    "    \"\"\"\n",
    "    result = 0\n",
    "    queue = []\n",
    "    queue.append(node)\n",
    "    while(len(queue)):\n",
    "        currentNode = queue.pop(0)\n",
    "        result += 1\n",
    "        for child in currentNode.children:\n",
    "            queue.append(child)\n",
    "    return result\n",
    "    pass\n",
    "\n",
    "\n",
    "#caculation\n",
    "maxNumber = 0\n",
    "maxAccuracy = 0\n",
    "tree_gini_temp = build_tree(data=X_train, impurity=calc_gini) # gini and goodness of split\n",
    "accuracyOfTraining = []\n",
    "accuracyOfTest = []\n",
    "numberOfNodesInTheTree = []\n",
    "#calculate the number of nodesn the tree and append it and the accuracy on the test set\n",
    "numberOfNodesInTheTree.append(count_nodes(tree_gini_temp))\n",
    "accuracyOfTraining.append(calc_accuracy(tree_gini_temp,X_train))\n",
    "accuracyOfTest.append(calc_accuracy(tree_gini_temp,X_test))\n",
    "while(count_nodes(tree_gini_temp) > 1):\n",
    "    i,j = post_pruning(tree_gini_temp)\n",
    "    accuracyOfTraining.append(i)\n",
    "    accuracyOfTest.append(j)\n",
    "    numberOfNodesInTheTree.append(count_nodes(tree_gini_temp))\n",
    "    if (j>maxAccuracy):\n",
    "        maxAccuracy = j\n",
    "        maxNumber = count_nodes(tree_gini_temp)\n",
    "#print the plot\n",
    "fig = plt.figure()\n",
    "ax = fig.add_subplot()\n",
    "fig.subplots_adjust(top=0.9)\n",
    "fig.suptitle('training and testing accuracies as a function of the number of nodes in the tree', fontsize=15, fontweight='bold')\n",
    "plt.plot(numberOfNodesInTheTree, accuracyOfTraining)\n",
    "plt.plot(numberOfNodesInTheTree, accuracyOfTest)\n",
    "plt.xlabel(\"number of nodes in the tree\")\n",
    "plt.ylabel(\"accuracy\")\n",
    "plt.legend(['training accuracy', 'testing accuracy'])\n",
    "plt.show()\n",
    "pass"
   ]
  },
  {
   "cell_type": "markdown",
   "metadata": {},
   "source": [
    "for instructor: it takes about 1-2 minutes to run the code"
   ]
  },
  {
   "cell_type": "markdown",
   "metadata": {},
   "source": [
    "## Chi square pre-pruning\n",
    "\n",
    "Consider the following p-value cut-off values: [1 (no pruning), 0.5, 0.25, 0.1, 0.05, 0.0001 (max pruning)]. For each value, construct a tree and prune it according to the cut-off value. Next, calculate the training and testing accuracy. On a single plot, draw the training and testing accuracy as a function of the tuple (p-value, tree depth). Mark the best result on the graph with red circle. (15 points)"
   ]
  },
  {
   "cell_type": "code",
   "execution_count": 19,
   "metadata": {},
   "outputs": [],
   "source": [
    "### Chi square table values ###\n",
    "# The first key is the degree of freedom \n",
    "# The second key is the p-value cut-off\n",
    "# The values are the chi-statistic that you need to use in the pruning\n",
    "chi_table = {1: {0.5 : 0.45,\n",
    "                 0.25 : 1.32,\n",
    "                 0.1 : 2.71,\n",
    "                 0.05 : 3.84,\n",
    "                 0.0001 : 100000},\n",
    "             2: {0.5 : 1.39,\n",
    "                 0.25 : 2.77,\n",
    "                 0.1 : 4.60,\n",
    "                 0.05 : 5.99,\n",
    "                 0.0001 : 100000},\n",
    "             3: {0.5 : 2.37,\n",
    "                 0.25 : 4.11,\n",
    "                 0.1 : 6.25,\n",
    "                 0.05 : 7.82,\n",
    "                 0.0001 : 100000},\n",
    "             4: {0.5 : 3.36,\n",
    "                 0.25 : 5.38,\n",
    "                 0.1 : 7.78,\n",
    "                 0.05 : 9.49,\n",
    "                 0.0001 : 100000},\n",
    "             5: {0.5 : 4.35,\n",
    "                 0.25 : 6.63,\n",
    "                 0.1 : 9.24,\n",
    "                 0.05 : 11.07,\n",
    "                 0.0001 : 100000},\n",
    "             6: {0.5 : 5.35,\n",
    "                 0.25 : 7.84,\n",
    "                 0.1 : 10.64,\n",
    "                 0.05 : 12.59,\n",
    "                 0.0001 : 100000},\n",
    "             7: {0.5 : 6.35,\n",
    "                 0.25 : 9.04,\n",
    "                 0.1 : 12.01,\n",
    "                 0.05 : 14.07,\n",
    "                 0.0001 : 100000},\n",
    "             8: {0.5 : 7.34,\n",
    "                 0.25 : 10.22,\n",
    "                 0.1 : 13.36,\n",
    "                 0.05 : 15.51,\n",
    "                 0.0001 : 100000},\n",
    "             9: {0.5 : 8.34,\n",
    "                 0.25 : 11.39,\n",
    "                 0.1 : 14.68,\n",
    "                 0.05 : 16.92,\n",
    "                 0.0001 : 100000},\n",
    "             10: {0.5 : 9.34,\n",
    "                  0.25 : 12.55,\n",
    "                  0.1 : 15.99,\n",
    "                  0.05 : 18.31,\n",
    "                  0.0001 : 100000},\n",
    "             11: {0.5 : 10.34,\n",
    "                  0.25 : 13.7,\n",
    "                  0.1 : 17.27,\n",
    "                  0.05 : 19.68,\n",
    "                  0.0001 : 100000}}"
   ]
  },
  {
   "cell_type": "code",
   "execution_count": 21,
   "metadata": {},
   "outputs": [
    {
     "data": {
      "image/png": "[encoded data removed]",
      "text/plain": [
       "<Figure size 720x576 with 1 Axes>"
      ]
     },
     "metadata": {
      "needs_background": "light"
     },
     "output_type": "display_data"
    }
   ],
   "source": [
    "#### Your code here ####\n",
    "#help function for chi square calculation\n",
    "def calcChiValue(data, feature):\n",
    "    \"\"\"\n",
    "    decide which node to replace\n",
    " \n",
    "    Input:\n",
    "    - data: the dataset\n",
    "    - feature: the feature we calculate chi value\n",
    " \n",
    "    Output:\n",
    "    - chi_value: current chi\n",
    "    \"\"\" \n",
    "    featureColumn = data[:, feature]\n",
    "    nodeValues = np.unique(featureColumn)\n",
    "    labelsDict = calculate_labels(data)\n",
    "    labelsKeys = np.unique(data[:,-1])\n",
    "    p0 = labelsDict[labelsKeys[0]] / len(data)\n",
    "    p1 = labelsDict[labelsKeys[1]] / len(data)\n",
    "    chiValue = 0\n",
    "    for currentFeatureVal in nodeValues:\n",
    "        df = np.count_nonzero(featureColumn == currentFeatureVal)\n",
    "        E_0 = df * p0\n",
    "        E_1 = df * p1\n",
    "        pf = len(np.where((data[:,feature] ==  currentFeatureVal) & (data[:,-1] == labelsKeys[0]))[0])\n",
    "        nf = len(np.where((data[:,feature] ==  currentFeatureVal) & (data[:,-1] == labelsKeys[1]))[0])\n",
    "        chiValue += (np.square(pf - E_0) / E_0) + (np.square(nf - E_1) / E_1)\n",
    "    return chiValue\n",
    "\n",
    "#help function for depth calculation\n",
    "def max_depth(node):\n",
    "    \"\"\"\n",
    "    decide which node to replace\n",
    " \n",
    "    Input:\n",
    "    - root: a node in the decision tree.\n",
    " \n",
    "    Output:\n",
    "    - depth: depth of tree\n",
    "    \"\"\"  \n",
    "    if not node.children:\n",
    "        return 1\n",
    "    return 1 + max(max_depth(child) for child in node.children)\n",
    "\n",
    "\n",
    "#the chi test on different values\n",
    "chiValues = [1, 0.5, 0.25, 0.1, 0.05, 0.0001]\n",
    "GiniAccuracyTraining=[]\n",
    "GiniAccuracyTest=[]\n",
    "x_tuple = []\n",
    "# currentDepth=[]\n",
    "for i in chiValues:\n",
    "    currentTree = build_tree(data=X_train, impurity=calc_gini, chi=i)\n",
    "    GiniAccuracyTraining.append(calc_accuracy(currentTree, X_train))\n",
    "    GiniAccuracyTest.append(calc_accuracy(currentTree, X_test))\n",
    "    depth = max_depth(currentTree)\n",
    "    x_tuple.append((i,depth))\n",
    "#calculate best chi value\n",
    "bestChi = x_tuple[np.argmax(GiniAccuracyTest,axis=0)]\n",
    "#print the plot\n",
    "fig = plt.figure()\n",
    "ax = fig.add_subplot()\n",
    "fig.subplots_adjust(top=0.9)\n",
    "fig.suptitle('training and testing accuracy as a function p-value', fontsize=15, fontweight='bold')\n",
    "plt.xlabel(\"(chi value, tree depth)\")\n",
    "plt.ylabel(\"accuracy\")\n",
    "plt.xticks(range(len(chiValues)),x_tuple)\n",
    "plt.scatter(range(len(chiValues)),GiniAccuracyTraining)\n",
    "plt.scatter(range(len(chiValues)),GiniAccuracyTest)\n",
    "plt.plot(range(len(chiValues)),GiniAccuracyTraining)\n",
    "plt.plot(range(len(chiValues)),GiniAccuracyTest)\n",
    "plt.legend(['training accuracy', 'testing accuracy'])\n",
    "circle2 = plt.Circle((3,0.9), 0.05, color='r', fill=False)\n",
    "plt.gca().add_patch(circle2)\n",
    "plt.show()\n"
   ]
  },
  {
   "cell_type": "markdown",
   "metadata": {},
   "source": [
    "Build the best 2 trees:\n",
    "1. tree_max_depth - the best tree according to max_depth pruning\n",
    "1. tree_chi - the best tree according to chi square pruning"
   ]
  },
  {
   "cell_type": "code",
   "execution_count": 22,
   "metadata": {},
   "outputs": [
    {
     "name": "stdout",
     "output_type": "stream",
     "text": [
      "tree_chi accuracy: for test set = 0.8951255539143279\n",
      "tree_post_pruning accuracy: for test set = 0.8857705563761694\n"
     ]
    }
   ],
   "source": [
    "#### Your code here ####\n",
    "tree_chi = build_tree(data=X_train, impurity=calc_entropy,chi=bestChi[0] ,gain_ratio=True)\n",
    "tree_post_pruning = build_tree(data=X_train, impurity=calc_gini)\n",
    "while(count_nodes(tree_post_pruning) > maxNumber):\n",
    "    post_pruning(tree_post_pruning)\n",
    "\n",
    "print(\"tree_chi accuracy: for test set = {0}\".format(calc_accuracy(tree_chi, X_test)))\n",
    "print(\"tree_post_pruning accuracy: for test set = {0}\".format(calc_accuracy(tree_post_pruning, X_test)))"
   ]
  },
  {
   "cell_type": "markdown",
   "metadata": {},
   "source": [
    "## Number of Nodes\n",
    "\n",
    "Of the two trees above we will choose the one with fewer nodes. Complete the function counts_nodes and print the number of nodes in each tree. (5 points) "
   ]
  },
  {
   "cell_type": "code",
   "execution_count": 23,
   "metadata": {},
   "outputs": [
    {
     "name": "stdout",
     "output_type": "stream",
     "text": [
      "number of nodes in tree_chi: 55\n",
      "number of nodes in tree_post_pruning: 128\n"
     ]
    }
   ],
   "source": [
    "def count_nodes(node):\n",
    "    \"\"\"\n",
    "    Count the number of node in a given tree\n",
    " \n",
    "    Input:\n",
    "    - node: a node in the decision tree.\n",
    " \n",
    "    Output: the number of node in the tree.\n",
    "    \"\"\"\n",
    "    ###########################################################################\n",
    "    # TODO: Implement the function.                                           #\n",
    "    ###########################################################################\n",
    "    result = 0\n",
    "    queue = []\n",
    "    queue.append(node)\n",
    "    while(len(queue)):\n",
    "        currentNode = queue.pop(0)\n",
    "        result += 1\n",
    "        for child in currentNode.children:\n",
    "            queue.append(child)\n",
    "    return result\n",
    "    pass\n",
    "    ###########################################################################\n",
    "    #                             END OF YOUR CODE                            #\n",
    "    ###########################################################################\n",
    "\n",
    "#print number of nodes in each tree  \n",
    "print(\"number of nodes in tree_chi: {0}\".format(count_nodes(tree_chi)))\n",
    "print(\"number of nodes in tree_post_pruning: {0}\".format(count_nodes(tree_post_pruning)))"
   ]
  },
  {
   "cell_type": "markdown",
   "metadata": {},
   "source": [
    "## Print the tree\n",
    "\n",
    "Complete the function `print_tree` and execute it on your chosen tree. Your tree should be visualized clearly. You can use the following example as a reference:\n",
    "```\n",
    "[ROOT, feature=X0],\n",
    "  [X0=a, feature=X2]\n",
    "    [X2=c, leaf]: [{1.0: 10}]\n",
    "    [X2=d, leaf]: [{0.0: 10}]\n",
    "  [X0=y, feature=X5], \n",
    "    [X5=a, leaf]: [{1.0: 5}]\n",
    "    [X5=s, leaf]: [{0.0: 10}]\n",
    "  [X0=e, leaf]: [{0.0: 25, 1.0: 50}]\n",
    "```\n",
    "In each brackets:\n",
    "* The first argument is the parent feature with the value that led to current node\n",
    "* The second argument is the selected feature of the current node\n",
    "* If the current node is a leaf, you need to print also the labels and their counts\n",
    "\n",
    "(5 points)"
   ]
  },
  {
   "cell_type": "code",
   "execution_count": 24,
   "metadata": {},
   "outputs": [
    {
     "name": "stdout",
     "output_type": "stream",
     "text": [
      "[ROOT, feature = odor]\n",
      "    [odor=a, leaf] : [{'e': 273, 'p': 31}]\n",
      "    [odor=c, leaf] : [{'e': 10, 'p': 137}]\n",
      "    [odor=f, feature = stalk-surface-above-ring]\n",
      "        [stalk-surface-above-ring=f, feature = cap-color]\n",
      "            [cap-color=b, leaf] : [{'e': 8, 'p': 30}]\n",
      "            [cap-color=g, leaf] : [{'e': 5, 'p': 26}]\n",
      "            [cap-color=w, leaf] : [{'e': 1, 'p': 35}]\n",
      "        [stalk-surface-above-ring=k, leaf] : [{'e': 134, 'p': 1037}]\n",
      "        [stalk-surface-above-ring=s, leaf] : [{'e': 22, 'p': 310}]\n",
      "    [odor=l, feature = cap-surface]\n",
      "        [cap-surface=f, leaf] : [{'e': 19, 'p': 1}]\n",
      "        [cap-surface=s, leaf] : [{'e': 94, 'p': 16}]\n",
      "        [cap-surface=y, leaf] : [{'e': 159, 'p': 10}]\n",
      "    [odor=m, leaf] : [{'e': 2, 'p': 25}]\n",
      "    [odor=n, feature = gill-size]\n",
      "        [gill-size=b, feature = spore-print-color]\n",
      "            [spore-print-color=b, leaf] : [{'e': 34, 'p': 2}]\n",
      "            [spore-print-color=k, leaf] : [{'e': 843, 'p': 93}]\n",
      "            [spore-print-color=n, leaf] : [{'e': 882, 'p': 105}]\n",
      "            [spore-print-color=o, feature = population]\n",
      "                [population=c, leaf] : [{'e': 12, 'p': 4}]\n",
      "                [population=v, leaf] : [{'e': 16}]\n",
      "            [spore-print-color=r, leaf] : [{'e': 6, 'p': 46}]\n",
      "            [spore-print-color=w, leaf] : [{'e': 369, 'p': 33}]\n",
      "            [spore-print-color=y, leaf] : [{'e': 35, 'p': 3}]\n",
      "        [gill-size=n, feature = bruises]\n",
      "            [bruises=f, feature = stalk-surface-above-ring]\n",
      "                [stalk-surface-above-ring=f, leaf] : [{'e': 17, 'p': 3}]\n",
      "                [stalk-surface-above-ring=k, leaf] : [{'p': 25}]\n",
      "                [stalk-surface-above-ring=s, feature = cap-color]\n",
      "                    [cap-color=c, leaf] : [{'e': 10}]\n",
      "                    [cap-color=g, leaf] : [{'e': 36, 'p': 1}]\n",
      "                    [cap-color=n, leaf] : [{'e': 37, 'p': 9}]\n",
      "                    [cap-color=r, leaf] : [{'e': 9, 'p': 4}]\n",
      "                    [cap-color=u, leaf] : [{'e': 14}]\n",
      "                    [cap-color=w, leaf] : [{'e': 12, 'p': 1}]\n",
      "                [stalk-surface-above-ring=y, leaf] : [{'p': 7}]\n",
      "            [bruises=t, leaf] : [{'p': 8}]\n",
      "    [odor=p, feature = cap-shape]\n",
      "        [cap-shape=f, feature = spore-print-color]\n",
      "            [spore-print-color=k, leaf] : [{'e': 6, 'p': 43}]\n",
      "            [spore-print-color=n, leaf] : [{'e': 1, 'p': 43}]\n",
      "        [cap-shape=x, leaf] : [{'e': 1, 'p': 89}]\n",
      "    [odor=s, feature = stalk-color-below-ring]\n",
      "        [stalk-color-below-ring=p, leaf] : [{'e': 12, 'p': 190}]\n",
      "        [stalk-color-below-ring=w, feature = stalk-color-above-ring]\n",
      "            [stalk-color-above-ring=p, leaf] : [{'e': 18, 'p': 88}]\n",
      "            [stalk-color-above-ring=w, feature = cap-shape]\n",
      "                [cap-shape=f, leaf] : [{'p': 38}]\n",
      "                [cap-shape=k, leaf] : [{'e': 3, 'p': 30}]\n",
      "                [cap-shape=x, leaf] : [{'e': 5, 'p': 34}]\n",
      "    [odor=y, feature = cap-surface]\n",
      "        [cap-surface=s, leaf] : [{'e': 18, 'p': 194}]\n",
      "        [cap-surface=y, leaf] : [{'e': 31, 'p': 188}]\n"
     ]
    }
   ],
   "source": [
    "# you can change the function signeture\n",
    "def print_tree(node, depth=0, parent_feature='ROOT', _prefix=\"\", _last=True):\n",
    "    '''\n",
    "    prints the tree according to the example above\n",
    "\n",
    "    Input:\n",
    "    - node: a node in the decision tree\n",
    "\n",
    "    This function has no return value\n",
    "    '''\n",
    "    ###########################################################################\n",
    "    # TODO: Implement the function.                                           #\n",
    "    ###########################################################################\n",
    "    nameOfFeatures = list(data.columns)\n",
    "    if(parent_feature=='ROOT'):\n",
    "        print(\"[{0}, feature = {1}]\".format(parent_feature,nameOfFeatures[node.feature]))\n",
    "    elif (node.feature == -1):\n",
    "        print(_prefix,\"[{0}={1}, leaf] : \".format(nameOfFeatures[node.parent.feature], node.currentValueOfFeature), \"[\", node.pred, \"]\", sep=\"\")\n",
    "    else:\n",
    "        print(_prefix,\"[{0}={1}, feature = {2}]\".format(nameOfFeatures[node.parent.feature],node.currentValueOfFeature,nameOfFeatures[node.feature]), sep=\"\")     \n",
    "    _prefix += \"    \" if _last else \"    \"\n",
    "    child_count = len(node.children)\n",
    "    for i, child in enumerate(node.children):\n",
    "        _last = i == (child_count - 1)\n",
    "        print_tree(child, 0, \"\", _prefix, _last)\n",
    "    pass\n",
    "    ###########################################################################\n",
    "    #                             END OF YOUR CODE                            #\n",
    "    ###########################################################################\n",
    "    \n",
    "#print the tree_chi (one with fewer nodes)\n",
    "print_tree(tree_chi)"
   ]
  }
 ],
 "metadata": {
  "kernelspec": {
   "display_name": "Python 3",
   "language": "python",
   "name": "python3"
  },
  "language_info": {
   "codemirror_mode": {
    "name": "ipython",
    "version": 3
   },
   "file_extension": ".py",
   "mimetype": "text/x-python",
   "name": "python",
   "nbconvert_exporter": "python",
   "pygments_lexer": "ipython3",
   "version": "3.8.5"
  }
 },
 "nbformat": 4,
 "nbformat_minor": 2
}
